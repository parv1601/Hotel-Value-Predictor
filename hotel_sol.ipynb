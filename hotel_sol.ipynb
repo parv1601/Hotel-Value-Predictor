{
 "cells": [
  {
   "cell_type": "code",
   "execution_count": 22,
   "id": "87a40ac9",
   "metadata": {},
   "outputs": [],
   "source": [
    "import pandas as pd\n",
    "import numpy as np\n",
    "import matplotlib.pyplot as plt\n",
    "import seaborn as sns\n",
    "from sklearn.model_selection import KFold, cross_val_score\n",
    "from sklearn.preprocessing import StandardScaler\n",
    "from sklearn.linear_model import Ridge\n",
    "from sklearn.tree import DecisionTreeRegressor\n",
    "from sklearn.ensemble import RandomForestRegressor, GradientBoostingRegressor\n",
    "from xgboost import XGBRegressor\n",
    "from sklearn.metrics import mean_squared_error, make_scorer"
   ]
  },
  {
   "cell_type": "code",
   "execution_count": 24,
   "id": "81a78684",
   "metadata": {},
   "outputs": [
    {
     "name": "stdout",
     "output_type": "stream",
     "text": [
      "Training Data Shape: (1200, 81)\n",
      "Testing Data Shape: (260, 80)\n"
     ]
    }
   ],
   "source": [
    "df_train = pd.read_csv('train.csv')\n",
    "df_test = pd.read_csv('test.csv')\n",
    "\n",
    "print(\"Training Data Shape:\", df_train.shape)\n",
    "print(\"Testing Data Shape:\", df_test.shape)\n"
   ]
  },
  {
   "cell_type": "code",
   "execution_count": 25,
   "id": "dbff2908",
   "metadata": {},
   "outputs": [],
   "source": [
    "# Save 'Id' columns for submission\n",
    "test_ID = df_test['Id']"
   ]
  },
  {
   "cell_type": "code",
   "execution_count": 26,
   "id": "e269e2f2",
   "metadata": {},
   "outputs": [],
   "source": [
    "# Drop the original 'Id' column from the dataframes\n",
    "df_train.drop(\"Id\", axis=1, inplace=True)\n",
    "df_test.drop(\"Id\", axis=1, inplace=True)\n",
    "\n",
    "# Separate target variable (HotelValue)\n",
    "y_train_raw = df_train['HotelValue']\n",
    "df_train.drop('HotelValue', axis=1, inplace=True)"
   ]
  },
  {
   "cell_type": "code",
   "execution_count": 27,
   "id": "a27defba",
   "metadata": {},
   "outputs": [
    {
     "name": "stdout",
     "output_type": "stream",
     "text": [
      "PropertyClass           0\n",
      "ZoningCategory          0\n",
      "RoadAccessLength      223\n",
      "LandArea                0\n",
      "RoadType                0\n",
      "                     ... \n",
      "ExtraFacilityValue      0\n",
      "MonthSold               0\n",
      "YearSold                0\n",
      "DealType                0\n",
      "DealCondition           0\n",
      "Length: 79, dtype: int64\n"
     ]
    }
   ],
   "source": [
    "\n",
    "missing_counts = df_train.isna().sum().astype(np.int64)\n",
    "print(missing_counts)"
   ]
  },
  {
   "cell_type": "markdown",
   "id": "6c25a9ad",
   "metadata": {},
   "source": [
    "Clearing the columns with many NaN values"
   ]
  },
  {
   "cell_type": "code",
   "execution_count": 11,
   "id": "290707c1",
   "metadata": {},
   "outputs": [
    {
     "name": "stdout",
     "output_type": "stream",
     "text": [
      "PoolQuality        1194\n",
      "ExtraFacility      1154\n",
      "ServiceLaneType    1125\n",
      "BoundaryFence       963\n",
      "dtype: int64\n"
     ]
    }
   ],
   "source": [
    "\n",
    "missing_counts = (\n",
    "    df_train[['PoolQuality', 'ExtraFacility', 'ServiceLaneType', 'BoundaryFence']]\n",
    "    .isna()\n",
    "    .sum()\n",
    "    .astype(np.int64)\n",
    ")\n",
    "\n",
    "print(missing_counts)"
   ]
  },
  {
   "cell_type": "code",
   "execution_count": 28,
   "id": "c26847cd",
   "metadata": {},
   "outputs": [],
   "source": [
    "\n",
    "cols_to_drop = [\n",
    "    'PoolQuality', 'ExtraFacility', 'ServiceLaneType', \n",
    "    'BoundaryFence', 'FacadeType'\n",
    "]\n",
    "df_train = df_train.drop(columns=cols_to_drop)\n"
   ]
  },
  {
   "cell_type": "markdown",
   "id": "258ac958",
   "metadata": {},
   "source": [
    "For some columns very less amount of data is missing so its better to remove those rows as it will confuse our model"
   ]
  },
  {
   "cell_type": "code",
   "execution_count": 29,
   "id": "3bb1c1b6",
   "metadata": {},
   "outputs": [
    {
     "name": "stdout",
     "output_type": "stream",
     "text": [
      "FacadeArea          7\n",
      "ElectricalSystem    1\n",
      "dtype: int64\n"
     ]
    }
   ],
   "source": [
    "missing_counts = (\n",
    "    df_train[['FacadeArea', 'ElectricalSystem']]\n",
    "    .isna()\n",
    "    .sum()\n",
    "    .astype(np.int64)\n",
    ")\n",
    "\n",
    "print(missing_counts)"
   ]
  },
  {
   "cell_type": "code",
   "execution_count": 30,
   "id": "6da6f44b",
   "metadata": {},
   "outputs": [],
   "source": [
    "df_train.dropna(subset=['FacadeArea', 'ElectricalSystem'], inplace=True)"
   ]
  },
  {
   "cell_type": "code",
   "execution_count": 31,
   "id": "6281afa2",
   "metadata": {},
   "outputs": [
    {
     "name": "stdout",
     "output_type": "stream",
     "text": [
      "FacadeArea          0\n",
      "ElectricalSystem    0\n",
      "dtype: int64\n"
     ]
    }
   ],
   "source": [
    "missing_counts = (\n",
    "    df_train[['FacadeArea', 'ElectricalSystem']]\n",
    "    .isna()\n",
    "    .sum()\n",
    "    .astype(np.int64)\n",
    ")\n",
    "\n",
    "print(missing_counts)"
   ]
  },
  {
   "cell_type": "markdown",
   "id": "72a06692",
   "metadata": {},
   "source": [
    "Impute NaN values with 'None' for features where missing means absence"
   ]
  },
  {
   "cell_type": "code",
   "execution_count": 32,
   "id": "2f7e491a",
   "metadata": {},
   "outputs": [],
   "source": [
    "# Basement-related columns\n",
    "basement_cols = [\n",
    "    'BasementHeight', 'BasementCondition', 'BasementExposure', \n",
    "    'BasementFacilityType1', 'BasementFacilityType2'\n",
    "]\n",
    "df_train[basement_cols] = df_train[basement_cols].fillna('None')\n",
    "\n",
    "# Garage/Parking related columns (excluding ParkingConstructionYear)\n",
    "parking_cat_cols = [\n",
    "    'ParkingType', 'ParkingFinish', 'ParkingQuality', \n",
    "    'ParkingCondition'\n",
    "]\n",
    "df_train[parking_cat_cols] = df_train[parking_cat_cols].fillna('None')\n",
    "\n",
    "# Other categorical columns\n",
    "df_train['LoungeQuality'] = df_train['LoungeQuality'].fillna('None')"
   ]
  },
  {
   "cell_type": "markdown",
   "id": "a6398435",
   "metadata": {},
   "source": [
    "Checking for duplicates"
   ]
  },
  {
   "cell_type": "code",
   "execution_count": 34,
   "id": "be60926c",
   "metadata": {},
   "outputs": [
    {
     "data": {
      "text/plain": [
       "np.int64(0)"
      ]
     },
     "execution_count": 34,
     "metadata": {},
     "output_type": "execute_result"
    }
   ],
   "source": [
    "df_train.duplicated().sum()"
   ]
  },
  {
   "cell_type": "markdown",
   "id": "e5a2462d",
   "metadata": {},
   "source": [
    "Possible incosistencies"
   ]
  },
  {
   "cell_type": "markdown",
   "id": "e8bd9b9f",
   "metadata": {},
   "source": [
    "Inconsistency,Rows Found,Action\n",
    "RenovationYear < ConstructionYear\n",
    "YearSold < ConstructionYear\n",
    "YearSold < RenovationYear"
   ]
  }
 ],
 "metadata": {
  "kernelspec": {
   "display_name": "ml_env",
   "language": "python",
   "name": "python3"
  },
  "language_info": {
   "codemirror_mode": {
    "name": "ipython",
    "version": 3
   },
   "file_extension": ".py",
   "mimetype": "text/x-python",
   "name": "python",
   "nbconvert_exporter": "python",
   "pygments_lexer": "ipython3",
   "version": "3.11.14"
  }
 },
 "nbformat": 4,
 "nbformat_minor": 5
}
